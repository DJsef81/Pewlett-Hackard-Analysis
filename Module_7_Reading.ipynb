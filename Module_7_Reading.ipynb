{
 "cells": [
  {
   "cell_type": "code",
   "execution_count": null,
   "metadata": {},
   "outputs": [],
   "source": [
    "# NOTES FOR MODULE 7"
   ]
  },
  {
   "cell_type": "code",
   "execution_count": null,
   "metadata": {},
   "outputs": [],
   "source": [
    "# 7.2.2 Create Tables in SQL\n",
    "\n",
    "# Use our final ERD as a guide\n",
    "\n",
    "# create six tables, one for each CSV file\n",
    "\n",
    "# These table creation statements will be our first introduction to Structured Query Language. \n",
    "\n",
    "# A statement is a block of code that, when executed, sends a command to the database.\n",
    "\n",
    "#  Before we create database, review Diagrams."
   ]
  },
  {
   "cell_type": "code",
   "execution_count": null,
   "metadata": {},
   "outputs": [],
   "source": [
    "# Review Diagrams\n",
    "\n",
    "# recreating the same tables in the diagram in our SQL database.\n",
    "\n",
    "# With the help of the diagram, we know the structure of this table: two columns with their data types. \n",
    "# Also, the table is already named. All we need to do is transfer over the same information.\n",
    "\n",
    "# Start by using..."
   ]
  },
  {
   "cell_type": "code",
   "execution_count": null,
   "metadata": {},
   "outputs": [],
   "source": [
    "# The Query Tool is pgAdmin's text editor, much like VSCode is for Python.\n",
    "\n",
    "# so lets create a table\n",
    "\n",
    "# -- Creating tables for PH-EmployeeDB\n",
    "# CREATE TABLE departments (\n",
    "#      dept_no VARCHAR(4) NOT NULL,\n",
    "#     dept_name VARCHAR(40) NOT NULL,\n",
    "#     PRIMARY KEY (dept_no),\n",
    "#     UNIQUE (dept_name)\n",
    "#);"
   ]
  },
  {
   "cell_type": "code",
   "execution_count": null,
   "metadata": {},
   "outputs": [],
   "source": [
    "# CREATE TABLE is the syntax required to create a new table in SQL.\n",
    "\n",
    "# departments is the name of the table and how it will be referenced in queries.\n",
    "\n",
    "# So the table has been named, now the structure needs to be created. The content inside the parentheses is how we'll \n",
    "# do that.\n",
    "\n",
    "# dept_no VARCHAR(4) NOT NULL, creates a column named \"dept_no\" that can hold up to four varying characters, while \n",
    "# NOT NULL tells SQL that no null fields will be allowed when importing data.\n",
    "\n",
    "# There are times when we don't want a data field to be null. For example, the dept_no column is our primary key—each \n",
    "# row has a unique number associated with it. If we didn't have the NOT NULL constraint, then there's a chance that a \n",
    "# row (or more than one row) won't have a primary key associated with the data."
   ]
  },
  {
   "cell_type": "code",
   "execution_count": null,
   "metadata": {},
   "outputs": [],
   "source": [
    "# What do you think would happen if one of the rows didn’t have a unique identifier?\n",
    "\n",
    "# Not all of the data would be present in every query, which would skew analysis results and provide incomplete lists."
   ]
  },
  {
   "cell_type": "code",
   "execution_count": null,
   "metadata": {},
   "outputs": [],
   "source": [
    "# dept_name VARCHAR(40) NOT NULL, creates a column similar to the dept_no, only the varying character count has a \n",
    "# maximum of 40.\n",
    "\n",
    "# PRIMARY KEY (dept_no), means that the dept_no column is used as the primary key for this table.\n",
    "\n",
    "# UNIQUE (dept_name) adds the unique constraint to the dept_name column.\n",
    "\n",
    "# The unique constraint implies that the data in that column is unique. \n",
    "# This ensures that if the table were to be updated in the future, nothing will be duplicated.\n",
    "\n"
   ]
  },
  {
   "cell_type": "code",
   "execution_count": null,
   "metadata": {},
   "outputs": [],
   "source": [
    "# The closing parenthesis and semicolon signal that the SQL CREATE TABLE statement is complete. \n",
    "\n",
    "# Any code added after will need to be included in a new SQL statement. \n",
    "# A statement is a command that is set up with a certain syntax. \n",
    "\n"
   ]
  },
  {
   "cell_type": "code",
   "execution_count": null,
   "metadata": {},
   "outputs": [],
   "source": [
    "# What does it mean when the NOT NULL constraint is applied?\n",
    "\n",
    "# Null values are not allowed in the column."
   ]
  },
  {
   "cell_type": "code",
   "execution_count": null,
   "metadata": {},
   "outputs": [],
   "source": [
    "# Execute the Code\n",
    "\n",
    "# To save the table to the database, we need to execute the code. \n",
    "\n",
    "# In the toolbar of the pgAdmin webpage, find and click the lightning bolt symbol toward the right of the bar. \n",
    "\n",
    "# This button runs the code and saves our work to the database."
   ]
  },
  {
   "cell_type": "code",
   "execution_count": 2,
   "metadata": {},
   "outputs": [],
   "source": [
    "# Troubleshoot Error Messages\n",
    "\n",
    "# Any error message will also appear in the same manner. Encountering errors will happen often and troubleshooting \n",
    "# them is a large part of being a developer. \n",
    "\n",
    "# Thankfully, each error message encountered will tell us why the error occurred. \n",
    "# This is great because it helps us, the developers, research and fix the problem."
   ]
  },
  {
   "cell_type": "code",
   "execution_count": 3,
   "metadata": {},
   "outputs": [],
   "source": [
    "# ERROR:  relation \"departments\" already exists\n",
    "# SQL state: 42P07"
   ]
  },
  {
   "cell_type": "code",
   "execution_count": null,
   "metadata": {},
   "outputs": [],
   "source": [
    "# This error occurs because SQL data is persistent and cannot be overwritten if the same command is run again. \n",
    "# Once a table has been committed to a database, it is there until a different command is run to delete it.\n"
   ]
  },
  {
   "cell_type": "code",
   "execution_count": null,
   "metadata": {},
   "outputs": [],
   "source": [
    "# Data integrity is the quality of the data we're working with. Clean data will yield better results in analysis, \n",
    "# and maintaining the data integrity ensures greater accuracy and reliability.\n",
    "\n",
    "# Dirty data is data that contains errors such as duplicates, undefined values (i.e., not a number, or NaN), or other \n",
    "# inconsistencies. This is why the NOT NULL constraint is in place."
   ]
  },
  {
   "cell_type": "code",
   "execution_count": null,
   "metadata": {},
   "outputs": [],
   "source": [
    "# To avoid encountering this error, highlight the code block you want to run first, then execute it. \n",
    "# This tells pgAdmin to run only that code.\n",
    "\n"
   ]
  },
  {
   "cell_type": "code",
   "execution_count": null,
   "metadata": {},
   "outputs": [],
   "source": [
    "# Create Additional Tables\n",
    "\n",
    "# Create another table for Employees.\n",
    "\n",
    "# How to start create table: \n",
    "\n",
    "# CREATE TABLE employees (\n",
    "#     emp_no INT NOT NULL,\n",
    "#     birth_date DATE NOT NULL,\n",
    "#     first_name VARCHAR NOT NULL,\n",
    "#     last_name VARCHAR NOT NULL,\n",
    "#     gender VARCHAR NOT NULL,\n",
    "#     hire_date DATE NOT NULL,\n",
    "#     PRIMARY KEY (emp_no)\n",
    "# );"
   ]
  },
  {
   "cell_type": "code",
   "execution_count": null,
   "metadata": {},
   "outputs": [],
   "source": [
    "# Create one more together—this time with foreign keys included. \n",
    "# Add the following code to the bottom of your query editor:\n",
    "\n",
    "# CREATE TABLE dept_manager (\n",
    "# dept_no VARCHAR(4) NOT NULL,\n",
    "#     emp_no INT NOT NULL,\n",
    "#     from_date DATE NOT NULL,\n",
    "#     to_date DATE NOT NULL,\n",
    "# FOREIGN KEY (emp_no) REFERENCES employees (emp_no),\n",
    "# FOREIGN KEY (dept_no) REFERENCES departments (dept_no),\n",
    "#     PRIMARY KEY (emp_no, dept_no)\n",
    "# );"
   ]
  },
  {
   "cell_type": "code",
   "execution_count": null,
   "metadata": {},
   "outputs": [],
   "source": [
    "# Remember that foreign keys reference the primary key of other tables. In the two lines above we can see that:\n",
    "\n",
    "# The FOREIGN KEY constraint tells Postgres that there is a link between two tables\n",
    "\n",
    "# The parentheses following FOREIGN KEY specify which of the current table's columns is linked to another table\n",
    "\n",
    "# REFERENCES table_name (column_name) tells Postgres which other table uses that column as a primary key\n",
    "\n",
    "# The primary key is similar, but there are two keys listed this time instead of just one. "
   ]
  },
  {
   "cell_type": "code",
   "execution_count": null,
   "metadata": {},
   "outputs": [],
   "source": [
    "# One thing to keep in mind when working with foreign keys is that it's possible that data insertion will fail if the\n",
    "# foreign key isn't present. \n",
    "\n",
    "# This is a \"foreign key constraint\" and in this case, it means that the new data needs a reference point \n",
    "# (such as dept_no or emp_no) to be successfully added to the table.\n",
    "\n"
   ]
  },
  {
   "cell_type": "code",
   "execution_count": null,
   "metadata": {},
   "outputs": [],
   "source": [
    "# Let's create another table for the data in salaries.csv\n",
    "\n",
    "# CREATE TABLE salaries (\n",
    "#   emp_no INT NOT NULL,\n",
    "#   salary INT NOT NULL,\n",
    "#   from_date DATE NOT NULL,\n",
    "#   to_date DATE NOT NULL,\n",
    "#   FOREIGN KEY (emp_no) REFERENCES employees (emp_no),\n",
    "#   PRIMARY KEY (emp_no)\n",
    "# );"
   ]
  },
  {
   "cell_type": "code",
   "execution_count": null,
   "metadata": {},
   "outputs": [],
   "source": [
    "# This code tells Postgres that our new table is named \"salaries\" and we'll have columns for the emp_no, salary, \n",
    "#from_date, and to_date. \n",
    "\n",
    "# We also have specified that certain fields aren't allowed any null space with the NOT NULL constraint, which is \n",
    "# important because we want this data to be persistent for every employee. \n",
    "\n",
    "# As a final step in table creation, we've also specified primary and foreign keys.\n",
    "\n"
   ]
  },
  {
   "cell_type": "code",
   "execution_count": null,
   "metadata": {},
   "outputs": [],
   "source": [
    "# Query for Confirmation\n",
    "\n",
    "# Confirm the tables were created successfully by running a SELECT statement, which performs a query instead of \n",
    "# constructing anything.\n",
    "\n",
    "# Think of it as asking the database a question. For example, say we want to know how many columns are in the \n",
    "# departments table. \n",
    "# How would we ask that particular question? We would create a SELECT statement, then run the code. \n",
    "# This is called \"querying the database.\""
   ]
  },
  {
   "cell_type": "code",
   "execution_count": null,
   "metadata": {},
   "outputs": [],
   "source": [
    "# How to query how many columns ar in the departments table\n",
    "\n",
    "# In the editor, after the table creation statements, type \n",
    "\n",
    "# SELECT * FROM departments;\n",
    "\n",
    "# The SELECT statement tells Postgres that we're about to query the database.\n",
    "# The asterisk tells Postgres that we're looking for every column in a table.\n",
    "# FROM departments tells pgAdmin which table to search.\n",
    "# The semicolon signifies the completion of the query.\n",
    "# After executing the SELECT statement, pgAdmin will automatically show the result in the Data Output tab at the bottom of the page."
   ]
  }
 ],
 "metadata": {
  "kernelspec": {
   "display_name": "PythonData",
   "language": "python",
   "name": "pythondata"
  },
  "language_info": {
   "codemirror_mode": {
    "name": "ipython",
    "version": 3
   },
   "file_extension": ".py",
   "mimetype": "text/x-python",
   "name": "python",
   "nbconvert_exporter": "python",
   "pygments_lexer": "ipython3",
   "version": "3.7.7"
  }
 },
 "nbformat": 4,
 "nbformat_minor": 4
}
