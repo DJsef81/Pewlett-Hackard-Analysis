{
 "cells": [
  {
   "cell_type": "code",
   "execution_count": null,
   "metadata": {},
   "outputs": [],
   "source": [
    "# 7.3.2"
   ]
  },
  {
   "cell_type": "code",
   "execution_count": null,
   "metadata": {},
   "outputs": [],
   "source": [
    "# Use Different Types of Joins\n",
    "\n",
    "# Joins are common in every coding language that deals with data. There are several types of joins available for use, \n",
    "# depending on what data we want displayed. \n",
    "\n",
    "# For example, in the retirement_info table, we want all of the information from the table. \n",
    "\n",
    "# We'll be joining it with the dept_emp table, but what information do we want included? \n",
    "\n",
    "# Just the dept_no, so we know which department each employee works in.\n",
    "\n"
   ]
  },
  {
   "cell_type": "code",
   "execution_count": null,
   "metadata": {},
   "outputs": [],
   "source": [
    "# When we talk about joining tables, try to imagine one table on the left and a second table on the right, instead of \n",
    "# in a list."
   ]
  },
  {
   "cell_type": "code",
   "execution_count": null,
   "metadata": {},
   "outputs": [],
   "source": [
    "# Inner Join\n",
    "\n",
    "# An inner join, also known as a simple join, will return matching data from two tables. \n",
    "\n",
    "# Look at the Departments and Managers tables in our ERD. Imagine that Departments is Table 1 and Managers is Table 2 \n",
    "# in the diagram. (venn diagram, only data in the area where the diagram overlaps is highlighted)\n",
    "\n",
    "# It's important to have the order of the tables correct, too. \n",
    "\n",
    "# SQL views them as the first and second tables, or the left and right tables.\n",
    "\n",
    "# Say we want to view the department number and name as well as the managers' employee numbers. \n",
    "\n",
    "# We only want the matching data from both tables, though. This means that if there are any NaNs from either table, \n",
    "# they won't be included in the data that gets returned. \n",
    "\n",
    "# So if a department doesn't have a manager, it wouldn't be listed in the data.\n"
   ]
  },
  {
   "cell_type": "code",
   "execution_count": null,
   "metadata": {},
   "outputs": [],
   "source": [
    "# Left Join\n",
    "\n",
    "# A left join (or \"left outer join\") will take all of the data from Table 1 and only the matching data from Table 2. \n",
    "\n",
    "# An inner join is different because only the matching data from the second table is included. \n",
    "\n",
    "# So how do we visualize a left join?\n",
    "\n",
    "# (venn diagram, left circle and area of overlap are highlighted)\n",
    "\n",
    "# when rows from the Managers table do not have matching data for every row in the Departments table, a NaN is \n",
    "# inserted into that column and row intersection instead. \n",
    "\n",
    "# This way, all of the data we want included from Table 1 is still present, and data from Table 2 isn't rearranged \n",
    "# and mismatched (blank spaces aren't automatically filled with present data).\n",
    "\n",
    "# If we wanted to add information from the Managers table to the Departments table, we'd use a left join. \n",
    "# This way, every row of the Departments table would be returned with or without manager information. \n",
    "\n",
    "# If a department doesn't have a manager, a NaN would appear in place of actual data"
   ]
  },
  {
   "cell_type": "code",
   "execution_count": null,
   "metadata": {},
   "outputs": [],
   "source": [
    "# Right Join\n",
    "\n",
    "# The right join (or \"right outer join\") is the inverse of a left join. \n",
    "\n",
    "# A right join takes all of the data from Table 2 and only the matching data from Table 1. \n",
    "#(visually, the opposite of a left join)\n"
   ]
  },
  {
   "cell_type": "code",
   "execution_count": null,
   "metadata": {},
   "outputs": [],
   "source": [
    "# Full Outer Join\n",
    "\n",
    "# A full outer join is a comprehensive join that combines all data from both tables.\n",
    "# (visually, both circles in venn diagram are fully highlighted)\n",
    "\n",
    "# The results are potentially massive. This is dangerous for a few reasons:\n",
    "\n",
    "# If the data being returned is extremely large, generating it can bog down or even crash your computer.\n",
    "\n",
    "# After the query has been returned, navigating the data can also bog down or crash your computer.\n",
    "\n",
    "# The data has the potential to be full of null values, or NaNs.\n",
    "\n",
    "\n"
   ]
  },
  {
   "cell_type": "code",
   "execution_count": null,
   "metadata": {},
   "outputs": [],
   "source": [
    "# 7.3.3 Joins in Action\n",
    "\n",
    "# We'll practice not only joining multiple tables, but also a way to clear up code by using aliases, where we assign \n",
    "# a nickname to a table."
   ]
  },
  {
   "cell_type": "code",
   "execution_count": null,
   "metadata": {},
   "outputs": [],
   "source": [
    "# Use Inner Join for Departments and dept-manager Tables\n",
    "\n",
    "# Let's create a query that will return each department name from the Departments table as well as the employee \n",
    "# numbers and the from- and to- dates from the dept_manager table. \n",
    "\n",
    "# We'll use an inner join because we want all of the matching rows from both tables."
   ]
  },
  {
   "cell_type": "code",
   "execution_count": null,
   "metadata": {},
   "outputs": [],
   "source": [
    "# -- Joining departments and dept_manager tables\n",
    "# SELECT departments.dept_name,\n",
    "#      dept_manager.emp_no,\n",
    "#      dept_manager.from_date,\n",
    "#      dept_manager.to_date\n",
    "# FROM departments\n",
    "# INNER JOIN dept_manager\n",
    "# ON departments.dept_no = dept_manager.dept_no;"
   ]
  },
  {
   "cell_type": "code",
   "execution_count": null,
   "metadata": {},
   "outputs": [],
   "source": [
    "# The SELECT statement selects only the columns we want to view from each table.\n",
    "\n",
    "# The FROM statement points to the first table to be joined, Departments (Table 1).\n",
    "\n",
    "# INNER JOIN points to the second table to be joined, dept_manager (Table 2).\n",
    "\n",
    "# ON departments.dept_no = managers.dept_no; indicates where Postgres should look for matches."
   ]
  },
  {
   "cell_type": "code",
   "execution_count": null,
   "metadata": {},
   "outputs": [],
   "source": [
    "# As Bobby is working through this first join, he realizes that he overlooked something important: start and end dates. "
   ]
  },
  {
   "cell_type": "code",
   "execution_count": null,
   "metadata": {},
   "outputs": [],
   "source": [
    "# Use Left Join to Capture retirement-info Table\n",
    "\n",
    "# We'll need to help Bobby recreate this list. \n",
    "# Think about what we need to have a fully accurate retirement_info table:\n",
    "\n",
    "# Employee number\n",
    "# Employee name (first and last)\n",
    "# If the person is presently employed with PH\n",
    "\n",
    "# Which tables have this information? Our current retirement_info is already filtered to list only the employees born \n",
    "# and hired within the correct time frame. The dept_emp table has the last bit we need. \n",
    "# We'll need to perform a join to get this information into one spot. Let's get started.\n",
    "\n"
   ]
  },
  {
   "cell_type": "code",
   "execution_count": null,
   "metadata": {},
   "outputs": [],
   "source": [
    "# First, we start with the SELECT statement.\n",
    "    \n",
    "# -- Joining retirement_info and dept_emp tables\n",
    "# SELECT retirement_info.emp_no,\n",
    "#     retirement_info.first_name,\n",
    "# retirement_info.last_name,\n",
    "#     dept_emp.to_date    "
   ]
  },
  {
   "cell_type": "code",
   "execution_count": null,
   "metadata": {},
   "outputs": [],
   "source": [
    "# Next, we assign the left table with FROM.\n",
    "\n",
    "# FROM retirement_info\n"
   ]
  },
  {
   "cell_type": "code",
   "execution_count": null,
   "metadata": {},
   "outputs": [],
   "source": [
    "# Then we specify the join we'll use. This time, use a LEFT JOIN to include every row of the first table \n",
    "# (retirement_info). \n",
    "\n",
    "# This also tells Postgres which table is second, or on the right side (dept_emp).\n",
    "\n",
    "# LEFT JOIN dept_emp\n"
   ]
  },
  {
   "cell_type": "code",
   "execution_count": null,
   "metadata": {},
   "outputs": [],
   "source": [
    "# Now we need to tell Postgres where the two tables are linked with the ON clause.\n",
    "\n",
    "# ON retirement_info.emp_no = dept_emp.emp_no;"
   ]
  },
  {
   "cell_type": "code",
   "execution_count": null,
   "metadata": {},
   "outputs": [],
   "source": [
    "# Full Code Using Left Join to Capture retirement-info Table\n",
    "\n",
    "# -- Joining retirement_info and dept_emp tables (Left Join)\n",
    "# SELECT retirement_info.emp_no,\n",
    "#     retirement_info.first_name,\n",
    "# retirement_info.last_name,\n",
    "#     dept_emp.to_date    \n",
    "# FROM retirement_info\n",
    "# LEFT JOIN dept_emp\n",
    "# ON retirement_info.emp_no = dept_emp.emp_no;"
   ]
  },
  {
   "cell_type": "code",
   "execution_count": null,
   "metadata": {},
   "outputs": [],
   "source": [
    "# Run the code to see what the data looks like. The \"Data Output\" tab should contain each of the four columns specified earlier: emp_no (employee number), first_name, last_name, and the to_date. Data from two different tables have been successfully merged into one!\n",
    "    "
   ]
  }
 ],
 "metadata": {
  "kernelspec": {
   "display_name": "PythonData",
   "language": "python",
   "name": "pythondata"
  },
  "language_info": {
   "codemirror_mode": {
    "name": "ipython",
    "version": 3
   },
   "file_extension": ".py",
   "mimetype": "text/x-python",
   "name": "python",
   "nbconvert_exporter": "python",
   "pygments_lexer": "ipython3",
   "version": "3.7.7"
  }
 },
 "nbformat": 4,
 "nbformat_minor": 4
}
